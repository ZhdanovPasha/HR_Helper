{
 "cells": [
  {
   "cell_type": "markdown",
   "metadata": {},
   "source": [
    "### Классификатор, определяющий, является ли текст резюме или нет"
   ]
  },
  {
   "cell_type": "code",
   "execution_count": 1,
   "metadata": {},
   "outputs": [],
   "source": [
    "import os\n",
    "import json\n",
    "import pandas as pd\n",
    "import numpy as np\n",
    "from joblib import dump, load\n",
    "\n",
    "from sklearn.feature_extraction.text import TfidfVectorizer\n",
    "from sklearn.naive_bayes import GaussianNB, MultinomialNB, BernoulliNB\n",
    "from sklearn.metrics import accuracy_score, precision_score, recall_score, f1_score\n",
    "from sklearn.model_selection import StratifiedKFold\n",
    "from sklearn.linear_model import LogisticRegression\n",
    "\n",
    "import warnings\n",
    "warnings.simplefilter('ignore')\n",
    "\n",
    "np.random.seed(0)\n",
    "\n",
    "from config import CONFIG\n",
    "from utils import text_preprocessing"
   ]
  },
  {
   "cell_type": "code",
   "execution_count": 2,
   "metadata": {},
   "outputs": [],
   "source": [
    "df_news = pd.read_csv(f'{CONFIG.DATA_FOLDER}/russian_news.csv')\n",
    "df_remote_cvs = pd.read_csv(f'{CONFIG.DATA_FOLDER}/remote_cvs.csv')\n",
    "df_hh_cvs = pd.read_csv(f'{CONFIG.DATA_FOLDER}/hh_cvs.csv')\n",
    "df_rabota_cvs = pd.read_csv(f'{CONFIG.DATA_FOLDER}/rabota_cvs.csv')\n",
    "df_vacs = pd.read_csv(f'{CONFIG.DATA_FOLDER}/hh_vac.csv')"
   ]
  },
  {
   "cell_type": "code",
   "execution_count": 3,
   "metadata": {},
   "outputs": [
    {
     "data": {
      "text/html": [
       "<div>\n",
       "<style scoped>\n",
       "    .dataframe tbody tr th:only-of-type {\n",
       "        vertical-align: middle;\n",
       "    }\n",
       "\n",
       "    .dataframe tbody tr th {\n",
       "        vertical-align: top;\n",
       "    }\n",
       "\n",
       "    .dataframe thead th {\n",
       "        text-align: right;\n",
       "    }\n",
       "</style>\n",
       "<table border=\"1\" class=\"dataframe\">\n",
       "  <thead>\n",
       "    <tr style=\"text-align: right;\">\n",
       "      <th></th>\n",
       "      <th>text</th>\n",
       "    </tr>\n",
       "  </thead>\n",
       "  <tbody>\n",
       "    <tr>\n",
       "      <th>0</th>\n",
       "      <td>Тестировщик / QA Engineer от 45 000 руб. Росси...</td>\n",
       "    </tr>\n",
       "    <tr>\n",
       "      <th>1</th>\n",
       "      <td>Мужчина 28 лет Санкт-Петербург Создание сайтов...</td>\n",
       "    </tr>\n",
       "    <tr>\n",
       "      <th>2</th>\n",
       "      <td>Контент менеджер от 35 000 руб. Россия, Москва...</td>\n",
       "    </tr>\n",
       "    <tr>\n",
       "      <th>3</th>\n",
       "      <td>Младший программист 25 000 руб. Linux, css, ht...</td>\n",
       "    </tr>\n",
       "    <tr>\n",
       "      <th>4</th>\n",
       "      <td>Программист от 40 000 руб. Россия, Томская обл...</td>\n",
       "    </tr>\n",
       "  </tbody>\n",
       "</table>\n",
       "</div>"
      ],
      "text/plain": [
       "                                                text\n",
       "0  Тестировщик / QA Engineer от 45 000 руб. Росси...\n",
       "1  Мужчина 28 лет Санкт-Петербург Создание сайтов...\n",
       "2  Контент менеджер от 35 000 руб. Россия, Москва...\n",
       "3  Младший программист 25 000 руб. Linux, css, ht...\n",
       "4  Программист от 40 000 руб. Россия, Томская обл..."
      ]
     },
     "execution_count": 3,
     "metadata": {},
     "output_type": "execute_result"
    }
   ],
   "source": [
    "N = min(list(map(len, [df_remote_cvs, df_hh_cvs, df_rabota_cvs])))\n",
    "df_cvs = pd.DataFrame()\n",
    "for df_tmp in [df_remote_cvs, df_hh_cvs, df_rabota_cvs]:\n",
    "    df_cvs = df_cvs.append(df_tmp[:N], ignore_index=True)\n",
    "    \n",
    "df_cvs.dropna(inplace=True)\n",
    "np.random.seed(0)\n",
    "texts = df_cvs['text'].values\n",
    "np.random.shuffle(texts)\n",
    "df_cvs['text'] = texts\n",
    "df_cvs.head()"
   ]
  },
  {
   "cell_type": "code",
   "execution_count": 4,
   "metadata": {},
   "outputs": [],
   "source": [
    "N = min(len(df_news), len(df_vacs))\n",
    "df_other = pd.DataFrame()\n",
    "for df_tmp in [df_news, df_vacs]:\n",
    "    df_other = df_other.append(df_tmp[:N], ignore_index=True)"
   ]
  },
  {
   "cell_type": "code",
   "execution_count": 5,
   "metadata": {},
   "outputs": [],
   "source": [
    "N = min(len(df_cvs), len(df_other))\n",
    "cvs = df_cvs['text'].values\n",
    "other = df_other['text'].values\n",
    "np.random.shuffle(cvs)\n",
    "np.random.shuffle(other)\n",
    "\n",
    "cvs = [text_preprocessing(item) for item in cvs[:N]]\n",
    "other = [text_preprocessing(item) for item in other[:N]]"
   ]
  },
  {
   "cell_type": "markdown",
   "metadata": {},
   "source": [
    "### Кросс-валидация"
   ]
  },
  {
   "cell_type": "code",
   "execution_count": 6,
   "metadata": {},
   "outputs": [],
   "source": [
    "corpus = cvs + other\n",
    "X = np.array(corpus)\n",
    "y = np.array([1] * len(cvs) + [0] * len(other))"
   ]
  },
  {
   "cell_type": "code",
   "execution_count": 7,
   "metadata": {},
   "outputs": [],
   "source": [
    "classifiers = [GaussianNB(), MultinomialNB(), BernoulliNB(), LogisticRegression()]\n",
    "metrics = [accuracy_score, precision_score, recall_score, f1_score]\n",
    "skf = StratifiedKFold(n_splits=5)\n",
    "cross_val_results = {\n",
    "    classifier.__class__.__name__: {metric.__name__ : [] for metric in metrics}\n",
    "    for classifier in classifiers\n",
    "}\n",
    "\n",
    "for train_idx, test_idx in skf.split(X, y):\n",
    "    vectorizer = TfidfVectorizer(max_features=1000)\n",
    "    vectorizer.fit(X[train_idx])\n",
    "    X_train = vectorizer.transform(X[train_idx]).toarray()\n",
    "    X_test = vectorizer.transform(X[test_idx]).toarray()\n",
    "    y_train = y[train_idx]\n",
    "    y_test = y[test_idx]\n",
    "    for classifier in classifiers:\n",
    "        classifier.fit(X_train, y_train)\n",
    "        y_train_pred = classifier.predict(X_train)\n",
    "        y_pred = classifier.predict(X_test)\n",
    "        for metric in metrics:\n",
    "            classifier_name = classifier.__class__.__name__\n",
    "            metric_name = metric.__name__\n",
    "            cross_val_results[classifier_name][metric_name].append(metric(y_test, y_pred))"
   ]
  },
  {
   "cell_type": "code",
   "execution_count": 8,
   "metadata": {},
   "outputs": [
    {
     "data": {
      "text/html": [
       "<div>\n",
       "<style scoped>\n",
       "    .dataframe tbody tr th:only-of-type {\n",
       "        vertical-align: middle;\n",
       "    }\n",
       "\n",
       "    .dataframe tbody tr th {\n",
       "        vertical-align: top;\n",
       "    }\n",
       "\n",
       "    .dataframe thead th {\n",
       "        text-align: right;\n",
       "    }\n",
       "</style>\n",
       "<table border=\"1\" class=\"dataframe\">\n",
       "  <thead>\n",
       "    <tr style=\"text-align: right;\">\n",
       "      <th></th>\n",
       "      <th>GaussianNB</th>\n",
       "      <th>MultinomialNB</th>\n",
       "      <th>BernoulliNB</th>\n",
       "      <th>LogisticRegression</th>\n",
       "    </tr>\n",
       "  </thead>\n",
       "  <tbody>\n",
       "    <tr>\n",
       "      <th>accuracy_score</th>\n",
       "      <td>0.990239</td>\n",
       "      <td>0.989990</td>\n",
       "      <td>0.987237</td>\n",
       "      <td>0.996622</td>\n",
       "    </tr>\n",
       "    <tr>\n",
       "      <th>f1_score</th>\n",
       "      <td>0.990163</td>\n",
       "      <td>0.989906</td>\n",
       "      <td>0.987227</td>\n",
       "      <td>0.996610</td>\n",
       "    </tr>\n",
       "    <tr>\n",
       "      <th>precision_score</th>\n",
       "      <td>0.997213</td>\n",
       "      <td>0.997714</td>\n",
       "      <td>0.988492</td>\n",
       "      <td>0.999499</td>\n",
       "    </tr>\n",
       "    <tr>\n",
       "      <th>recall_score</th>\n",
       "      <td>0.983231</td>\n",
       "      <td>0.982232</td>\n",
       "      <td>0.985986</td>\n",
       "      <td>0.993744</td>\n",
       "    </tr>\n",
       "  </tbody>\n",
       "</table>\n",
       "</div>"
      ],
      "text/plain": [
       "                 GaussianNB  MultinomialNB  BernoulliNB  LogisticRegression\n",
       "accuracy_score     0.990239       0.989990     0.987237            0.996622\n",
       "f1_score           0.990163       0.989906     0.987227            0.996610\n",
       "precision_score    0.997213       0.997714     0.988492            0.999499\n",
       "recall_score       0.983231       0.982232     0.985986            0.993744"
      ]
     },
     "execution_count": 8,
     "metadata": {},
     "output_type": "execute_result"
    }
   ],
   "source": [
    "mean_results = {\n",
    "    classifier_name: {\n",
    "        metric_name: np.mean(metric_arr) \n",
    "        for metric_name, metric_arr in item.items()\n",
    "    } for classifier_name, item in cross_val_results.items()\n",
    "}\n",
    "df_score = pd.DataFrame(mean_results)\n",
    "df_score.head()"
   ]
  },
  {
   "cell_type": "markdown",
   "metadata": {},
   "source": [
    "### Обучение финальной модели"
   ]
  },
  {
   "cell_type": "code",
   "execution_count": 9,
   "metadata": {},
   "outputs": [
    {
     "data": {
      "text/plain": [
       "LogisticRegression()"
      ]
     },
     "execution_count": 9,
     "metadata": {},
     "output_type": "execute_result"
    }
   ],
   "source": [
    "vectorizer = TfidfVectorizer(max_features=1000)\n",
    "classifier = LogisticRegression()\n",
    "X_transformed = vectorizer.fit_transform(X).toarray()\n",
    "classifier.fit(X_transformed, y)"
   ]
  },
  {
   "cell_type": "code",
   "execution_count": 10,
   "metadata": {},
   "outputs": [
    {
     "data": {
      "text/plain": [
       "['models/binary_classifier.joblib']"
      ]
     },
     "execution_count": 10,
     "metadata": {},
     "output_type": "execute_result"
    }
   ],
   "source": [
    "if not os.path.exists(CONFIG.MODELS_FOLDER):\n",
    "    os.makedirs(CONFIG.MODELS_FOLDER)\n",
    "\n",
    "dump(vectorizer, f'{CONFIG.MODELS_FOLDER}/{CONFIG.BINARY_VECTORIZER_NAME}') \n",
    "dump(classifier, f'{CONFIG.MODELS_FOLDER}/{CONFIG.BINARY_CLASSIFER_NAME}') "
   ]
  },
  {
   "cell_type": "markdown",
   "metadata": {},
   "source": [
    "### Важность признаков"
   ]
  },
  {
   "cell_type": "code",
   "execution_count": 11,
   "metadata": {},
   "outputs": [
    {
     "name": "stdout",
     "output_type": "stream",
     "text": [
      "('руб', 5.5144168342312705)\n",
      "('россия', 5.383659559388919)\n",
      "('москва', 4.149944713425877)\n",
      "('область', 4.0829208916524955)\n",
      "('образование', 2.6342952608768475)\n",
      "('русский', 2.48109594214575)\n",
      "('университет', 2.348064401056707)\n",
      "('имею', 2.335757070736375)\n",
      "('adobe', 2.322343379427084)\n",
      "('высшее', 2.318241016092196)\n",
      "\n",
      "\n",
      "('указана', -2.7163239859500017)\n",
      "('зп', -2.760867254154654)\n",
      "('сообщает', -2.814353678778332)\n",
      "('полный', -2.83281544601163)\n",
      "('требования', -2.8846555058153434)\n",
      "('условия', -2.9114144241243474)\n",
      "('апреля', -2.986869101992444)\n",
      "('полная', -3.621723725243273)\n",
      "('занятость', -3.657194246917162)\n",
      "('руки', -3.7198412488898867)\n"
     ]
    }
   ],
   "source": [
    "def get_feature_importance_for_lr_clf(lr_clf, vect):\n",
    "    words = vect.get_feature_names()\n",
    "    zipped = list(zip(words, lr_clf.coef_[0]))\n",
    "    return sorted(zipped, key=lambda t: t[1], reverse=True)\n",
    "\n",
    "feature_importance = get_feature_importance_for_lr_clf(classifier, vectorizer)\n",
    "for item in feature_importance[:10]:\n",
    "    print(item)\n",
    "    \n",
    "print('\\n')\n",
    "for item in feature_importance[-10:]:\n",
    "    print(item)"
   ]
  }
 ],
 "metadata": {
  "kernelspec": {
   "display_name": "Python 3",
   "language": "python",
   "name": "python3"
  },
  "language_info": {
   "codemirror_mode": {
    "name": "ipython",
    "version": 3
   },
   "file_extension": ".py",
   "mimetype": "text/x-python",
   "name": "python",
   "nbconvert_exporter": "python",
   "pygments_lexer": "ipython3",
   "version": "3.7.3"
  }
 },
 "nbformat": 4,
 "nbformat_minor": 2
}
