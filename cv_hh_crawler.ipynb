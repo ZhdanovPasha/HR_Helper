{
 "cells": [
  {
   "cell_type": "code",
   "execution_count": 1,
   "metadata": {},
   "outputs": [],
   "source": [
    "import json\n",
    "import requests\n",
    "import time\n",
    "from pprint import pprint\n",
    "from selenium import webdriver\n",
    "from selenium.webdriver.common.keys import Keys\n",
    "from tqdm import tqdm\n",
    "from bs4 import BeautifulSoup\n",
    "\n",
    "import warnings\n",
    "warnings.simplefilter('ignore')\n",
    "\n",
    "from config import CONFIG"
   ]
  },
  {
   "cell_type": "markdown",
   "metadata": {},
   "source": [
    "### Загрузка ссылок на резюме"
   ]
  },
  {
   "cell_type": "code",
   "execution_count": 5,
   "metadata": {},
   "outputs": [
    {
     "name": "stderr",
     "output_type": "stream",
     "text": [
      "100%|████████████████████████████████████████████████████████████████████████████████| 100/100 [09:42<00:00,  4.89s/it]\n"
     ]
    },
    {
     "name": "stdout",
     "output_type": "stream",
     "text": [
      "0\n"
     ]
    }
   ],
   "source": [
    "vacancy_links = []\n",
    "driver = webdriver.Chrome()\n",
    "url = 'https://spb.hh.ru/search/resume?clusters=True&area=2&ored_clusters=True&order_by=relevance&items_on_page=50&logic=normal&pos=full_text&exp_period=all_time&exp_company_size=any&exp_industry=any&st=resumeSearch&text=Web+developer&from=suggest_post&page='\n",
    "\n",
    "for i in tqdm(range(1, 101)):\n",
    "    driver.get(url + str(i))\n",
    "    page = driver.page_source\n",
    "    soup = BeautifulSoup(page)\n",
    "    vacancies = (\n",
    "        soup\n",
    "        .find_all('a', {'class': 'resume-search-item__name'}, href=True)\n",
    "    )\n",
    "    links = [vacancy['href'] for vacancy in vacancies if 'resume' in vacancy['href']]\n",
    "    vacancy_links.extend(links)\n",
    "    time.sleep(0.1)\n",
    "\n",
    "driver.close()"
   ]
  },
  {
   "cell_type": "code",
   "execution_count": 8,
   "metadata": {},
   "outputs": [],
   "source": [
    "vacancy_links = list(set(vacancy_links))\n",
    "with open(f'{CONFIG.DATA_FOLDER}/hh_cv_links.txt', 'w', encoding='utf-8') as f:\n",
    "    f.write('\\n'.join(vacancy_links))"
   ]
  },
  {
   "cell_type": "markdown",
   "metadata": {},
   "source": [
    "### Скачивание резюме"
   ]
  },
  {
   "cell_type": "code",
   "execution_count": null,
   "metadata": {},
   "outputs": [],
   "source": [
    "def clean_text(word):\n",
    "    return ' '.join(word.replace(r'\\xa0', '').replace(r'\\r', ' ').split())\n",
    "\n",
    "def parse_cv(page):\n",
    "    candidate = dict()\n",
    "    soup = BeautifulSoup(page)\n",
    "\n",
    "    tmp = soup.find('span', {'data-qa': 'resume-personal-gender'})\n",
    "    if tmp is not None:\n",
    "        candidate['gender'] = clean_text(tmp.text)\n",
    "        \n",
    "    tmp = soup.find('span', {'data-qa': 'resume-personal-age'})\n",
    "    if tmp is not None:\n",
    "        candidate['age'] = clean_text(tmp.text)\n",
    "    \n",
    "    tmp = soup.find('span', {'data-qa': 'resume-personal-address'})\n",
    "    if tmp is not None:\n",
    "        candidate['city'] = clean_text(tmp.text)\n",
    "    \n",
    "    tmp = soup.find('span', {'class': 'resume-block__title-text'})\n",
    "    if tmp is not None:\n",
    "        candidate['position_name'] = clean_text(tmp.text)\n",
    "        \n",
    "    tmp = soup.find('span', {'class': 'resume-block__salary'})\n",
    "    if tmp is not None:\n",
    "        candidate['salary'] = clean_text(tmp.text)\n",
    "        \n",
    "    tmp = soup.find('span', {'data-qa': 'resume-block-specialization-category'})\n",
    "    if tmp is not None:\n",
    "        candidate['spec_cat'] = clean_text(tmp.text)\n",
    "        \n",
    "    tmp = soup.find('div', {'data-qa': 'skills-table'})\n",
    "    if tmp is not None:\n",
    "        skills = tmp.find_all('span')\n",
    "        if skills is not None:\n",
    "            candidate['skills'] = ' '.join([skill.text for skill in skills[1::2]])\n",
    "        \n",
    "    tmp = soup.find('div', {'data-qa': 'resume-block-driver-experience'})\n",
    "    if tmp is not None:\n",
    "        tmp = tmp.find('div', {'class': 'resume-block-item-gap'})\n",
    "        if tmp is not None:\n",
    "            candidate['driver_exp'] = clean_text(tmp.text)\n",
    "        \n",
    "    tmp = soup.find('div', {'data-qa': 'resume-block-education'})\n",
    "    if tmp is not None:\n",
    "        item = tmp.find('span', {'class': 'resume-block__title-text'})\n",
    "        if item is not None:\n",
    "            candidate['education_degree'] = item.text\n",
    "                \n",
    "    tmp = soup.find('div', {'data-qa': 'resume-block-skills'})\n",
    "    if tmp is not None:\n",
    "        tmp = tmp.find('div', {'class': 'resume-block-item-gap'})\n",
    "        if tmp is not None:\n",
    "            candidate['aboutme_info'] = tmp.text\n",
    "    \n",
    "    tmp = soup.find('div', {'data-qa': 'resume-block-education'})\n",
    "    if tmp is not None:\n",
    "        education = []\n",
    "        items = tmp.find_all('div', {'class': 'resume-block-item-gap'})\n",
    "        if items is not None:\n",
    "            for item in items:\n",
    "                edu_item = dict()\n",
    "                edu_year = item.find('div', {'class': 'bloko-column'})\n",
    "                if edu_year is not None:\n",
    "                    edu_item['year'] = clean_text(edu_year.text)\n",
    "                edu_name = item.find('div', {'data-qa':'resume-block-education-name'})\n",
    "                if edu_name is not None:\n",
    "                    edu_item['name'] = clean_text(edu_name.text)\n",
    "                edu_type = item.find('div', {'data-qa': 'resume-block-education-organization'})\n",
    "                if edu_type is not None:\n",
    "                    edu_item['type'] = clean_text(edu_type.text)\n",
    "                education.append(edu_item)\n",
    "            candidate['education_list'] = education\n",
    "    \n",
    "    tmp = soup.find('div', {'data-qa': 'resume-block-experience'})\n",
    "    if tmp is not None:\n",
    "        tmp = tmp.find('div', {'class': 'resume-block-item-gap'})\n",
    "        if tmp is not None:\n",
    "            tmp = tmp.find_all('div', {'class': 'resume-block-item-gap'})\n",
    "            if tmp is not None:\n",
    "                exp = []\n",
    "                for item in tmp:\n",
    "                    exp_item = dict()\n",
    "                    exp_time = item.find('div', {'class': 'bloko-column'})\n",
    "                    if exp_time is not None:\n",
    "                        exp_item['time'] = clean_text(exp_time.text)\n",
    "                        duration = exp_time.find('div', {'class': 'bloko-text-tertiary'})\n",
    "                        if duration is not None:\n",
    "                            exp_item['time'] = exp_item['time'].replace(clean_text(duration.text), '')\n",
    "                    exp_name = item.find('div', {'class': 'bloko-text-emphasis'})\n",
    "                    if exp_name is not None:\n",
    "                        exp_item['company_name'] = clean_text(exp_name.text)\n",
    "                    exp_ind = item.find('div', {'class': 'resume-block__experience-industries'})\n",
    "                    if exp_ind is not None:\n",
    "                        if exp_ind.find('spane') is not None:\n",
    "                            exp_item['company_industry'] = clean_text(exp_ind.find('span').text)\n",
    "                    exp_title = item.find('div', {'data-qa': 'resume-block-experience-position'})\n",
    "                    if exp_title is not None:\n",
    "                        exp_item['title'] = clean_text(exp_title.text)\n",
    "                    exp_descr = item.find('div', {'data-qa': 'resume-block-experience-description'})\n",
    "                    if exp_descr is not None:\n",
    "                        exp_item['description'] = clean_text(exp_descr.text)\n",
    "                    exp.append(exp_item)\n",
    "                candidate['experience_list'] = exp\n",
    "    \n",
    "    tmp = soup.find('div', {'data-qa': 'resume-block-languages'})\n",
    "    if tmp is not None:\n",
    "        langs = tmp.find_all('p', {'data-qa': 'resume-block-language-item'})\n",
    "        if langs is not None:\n",
    "            languages = [lang.text for lang in langs]\n",
    "            candidate['languages'] = languages\n",
    "        \n",
    "    return candidate\n",
    "\n",
    "\n",
    "candidate = parse_cv(page)\n",
    "pprint(candidate)"
   ]
  },
  {
   "cell_type": "markdown",
   "metadata": {},
   "source": [
    "### Скачивание резюме"
   ]
  },
  {
   "cell_type": "code",
   "execution_count": 45,
   "metadata": {},
   "outputs": [
    {
     "name": "stderr",
     "output_type": "stream",
     "text": [
      "100%|████████████████████████████████████████████████████████████████████████████| 4943/4943 [6:02:59<00:00,  4.63s/it]\n"
     ]
    }
   ],
   "source": [
    "cvs = []\n",
    "driver = webdriver.Chrome()\n",
    "\n",
    "for vacancy_link in tqdm(vacancy_links):\n",
    "    current_link = site_name + vacancy_link\n",
    "    driver.get(current_link)\n",
    "    page = driver.page_source\n",
    "    cvs.append(parse_cv(page))\n",
    "    time.sleep(0.3)\n",
    "    \n",
    "driver.close()"
   ]
  },
  {
   "cell_type": "markdown",
   "metadata": {},
   "source": [
    "### Сохранение результатов в файл"
   ]
  },
  {
   "cell_type": "code",
   "execution_count": 53,
   "metadata": {},
   "outputs": [],
   "source": [
    "with open(f'{CONFIG.DATA_FOLDER}/hh_cvs.json', 'w', encoding='utf-8') as f:\n",
    "    json.dump(cvs, f, ensure_ascii=False, indent=4)"
   ]
  }
 ],
 "metadata": {
  "kernelspec": {
   "display_name": "Python 3",
   "language": "python",
   "name": "python3"
  },
  "language_info": {
   "codemirror_mode": {
    "name": "ipython",
    "version": 3
   },
   "file_extension": ".py",
   "mimetype": "text/x-python",
   "name": "python",
   "nbconvert_exporter": "python",
   "pygments_lexer": "ipython3",
   "version": "3.7.3"
  }
 },
 "nbformat": 4,
 "nbformat_minor": 2
}
