{
 "cells": [
  {
   "cell_type": "code",
   "execution_count": 1,
   "metadata": {},
   "outputs": [],
   "source": [
    "import json\n",
    "import pandas as pd\n",
    "import warnings\n",
    "warnings.simplefilter('ignore')\n",
    "\n",
    "from config import CONFIG"
   ]
  },
  {
   "cell_type": "code",
   "execution_count": 2,
   "metadata": {},
   "outputs": [],
   "source": [
    "def convert_parsed_item_to_string(value):\n",
    "    if not value:\n",
    "        return ''\n",
    "    if type(value) == str:\n",
    "        return value\n",
    "    elif type(value) == list:\n",
    "        if type(value[0]) == str:\n",
    "            return value[0]\n",
    "        else:\n",
    "            return ' '.join(list(value[0].values()))\n",
    "        \n",
    "def join_text_from_json_by_values(mapping: dict) -> str:\n",
    "    return ' '.join([convert_parsed_item_to_string(value) for value in mapping.values()])"
   ]
  },
  {
   "cell_type": "markdown",
   "metadata": {},
   "source": [
    "### Преобразование текстов резюме"
   ]
  },
  {
   "cell_type": "code",
   "execution_count": null,
   "metadata": {},
   "outputs": [],
   "source": [
    "with open(f'{CONFIG.DATA_FOLDER}/rabota_cvs.json', 'r', encoding='utf-8') as f:\n",
    "    cvs = json.load(f)\n",
    "\n",
    "print('Before:\\n', cvs[0])\n",
    "transformed_cvs = list(map(join_text_from_json_by_values, cvs))\n",
    "print('After:\\n', transformed_cvs[0])"
   ]
  },
  {
   "cell_type": "code",
   "execution_count": 4,
   "metadata": {},
   "outputs": [
    {
     "data": {
      "text/html": [
       "<div>\n",
       "<style scoped>\n",
       "    .dataframe tbody tr th:only-of-type {\n",
       "        vertical-align: middle;\n",
       "    }\n",
       "\n",
       "    .dataframe tbody tr th {\n",
       "        vertical-align: top;\n",
       "    }\n",
       "\n",
       "    .dataframe thead th {\n",
       "        text-align: right;\n",
       "    }\n",
       "</style>\n",
       "<table border=\"1\" class=\"dataframe\">\n",
       "  <thead>\n",
       "    <tr style=\"text-align: right;\">\n",
       "      <th></th>\n",
       "      <th>text</th>\n",
       "    </tr>\n",
       "  </thead>\n",
       "  <tbody>\n",
       "    <tr>\n",
       "      <th>0</th>\n",
       "      <td>программист python 50 000 руб. Ведение перегов...</td>\n",
       "    </tr>\n",
       "    <tr>\n",
       "      <th>1</th>\n",
       "      <td>Программист 1С по договоренности Сертификаты 1...</td>\n",
       "    </tr>\n",
       "    <tr>\n",
       "      <th>2</th>\n",
       "      <td>Программист net по договоренности  Москва 58 л...</td>\n",
       "    </tr>\n",
       "    <tr>\n",
       "      <th>3</th>\n",
       "      <td>Химик-технолог, химик-разработчик, инженер-хим...</td>\n",
       "    </tr>\n",
       "    <tr>\n",
       "      <th>4</th>\n",
       "      <td>Инженер-программист, программирующий специалис...</td>\n",
       "    </tr>\n",
       "  </tbody>\n",
       "</table>\n",
       "</div>"
      ],
      "text/plain": [
       "                                                text\n",
       "0  программист python 50 000 руб. Ведение перегов...\n",
       "1  Программист 1С по договоренности Сертификаты 1...\n",
       "2  Программист net по договоренности  Москва 58 л...\n",
       "3  Химик-технолог, химик-разработчик, инженер-хим...\n",
       "4  Инженер-программист, программирующий специалис..."
      ]
     },
     "execution_count": 4,
     "metadata": {},
     "output_type": "execute_result"
    }
   ],
   "source": [
    "df_cvs = pd.DataFrame()\n",
    "df_cvs['text'] = transformed_cvs\n",
    "df_cvs.head()"
   ]
  },
  {
   "cell_type": "code",
   "execution_count": 5,
   "metadata": {},
   "outputs": [],
   "source": [
    "df_cvs.to_csv(f'{CONFIG.DATA_FOLDER}/rabota_cvs.csv', index=False)"
   ]
  },
  {
   "cell_type": "markdown",
   "metadata": {},
   "source": [
    "### Преобразование текстов вакансий"
   ]
  },
  {
   "cell_type": "code",
   "execution_count": 6,
   "metadata": {},
   "outputs": [],
   "source": [
    "with open(f'{CONFIG.DATA_FOLDER}/hh_vacancies.json', 'r', encoding='utf-8') as f:\n",
    "    vacancies = json.load(f)"
   ]
  },
  {
   "cell_type": "code",
   "execution_count": null,
   "metadata": {},
   "outputs": [],
   "source": [
    "transformed_vacancies = list(map(join_text_from_json_by_values, vacancies))\n",
    "print(vacancies[0])\n",
    "print(transformed_vacancies[0])"
   ]
  },
  {
   "cell_type": "code",
   "execution_count": 8,
   "metadata": {},
   "outputs": [
    {
     "data": {
      "text/html": [
       "<div>\n",
       "<style scoped>\n",
       "    .dataframe tbody tr th:only-of-type {\n",
       "        vertical-align: middle;\n",
       "    }\n",
       "\n",
       "    .dataframe tbody tr th {\n",
       "        vertical-align: top;\n",
       "    }\n",
       "\n",
       "    .dataframe thead th {\n",
       "        text-align: right;\n",
       "    }\n",
       "</style>\n",
       "<table border=\"1\" class=\"dataframe\">\n",
       "  <thead>\n",
       "    <tr style=\"text-align: right;\">\n",
       "      <th></th>\n",
       "      <th>text</th>\n",
       "    </tr>\n",
       "  </thead>\n",
       "  <tbody>\n",
       "    <tr>\n",
       "      <th>0</th>\n",
       "      <td>Front-end разработчик/HTML-верстальщик от 75 0...</td>\n",
       "    </tr>\n",
       "    <tr>\n",
       "      <th>1</th>\n",
       "      <td>Frontend developer от 200 000 руб. на руки ООО...</td>\n",
       "    </tr>\n",
       "    <tr>\n",
       "      <th>2</th>\n",
       "      <td>Web мастер/HTML-верстальщик от 50 000 руб. до ...</td>\n",
       "    </tr>\n",
       "    <tr>\n",
       "      <th>3</th>\n",
       "      <td>Senior backend developer Ruby от 200 000 до 35...</td>\n",
       "    </tr>\n",
       "    <tr>\n",
       "      <th>4</th>\n",
       "      <td>JavaScript Developer (Junior) от 40 000 до 60 ...</td>\n",
       "    </tr>\n",
       "  </tbody>\n",
       "</table>\n",
       "</div>"
      ],
      "text/plain": [
       "                                                text\n",
       "0  Front-end разработчик/HTML-верстальщик от 75 0...\n",
       "1  Frontend developer от 200 000 руб. на руки ООО...\n",
       "2  Web мастер/HTML-верстальщик от 50 000 руб. до ...\n",
       "3  Senior backend developer Ruby от 200 000 до 35...\n",
       "4  JavaScript Developer (Junior) от 40 000 до 60 ..."
      ]
     },
     "execution_count": 8,
     "metadata": {},
     "output_type": "execute_result"
    }
   ],
   "source": [
    "df_vac = pd.DataFrame()\n",
    "df_vac['text'] = transformed_vacancies\n",
    "df_vac.head()"
   ]
  },
  {
   "cell_type": "code",
   "execution_count": 9,
   "metadata": {},
   "outputs": [],
   "source": [
    "df_vac.to_csv(f'{CONFIG.DATA_FOLDER}/hh_vacancies.csv', index=False)"
   ]
  }
 ],
 "metadata": {
  "kernelspec": {
   "display_name": "Python 3",
   "language": "python",
   "name": "python3"
  },
  "language_info": {
   "codemirror_mode": {
    "name": "ipython",
    "version": 3
   },
   "file_extension": ".py",
   "mimetype": "text/x-python",
   "name": "python",
   "nbconvert_exporter": "python",
   "pygments_lexer": "ipython3",
   "version": "3.7.3"
  }
 },
 "nbformat": 4,
 "nbformat_minor": 2
}