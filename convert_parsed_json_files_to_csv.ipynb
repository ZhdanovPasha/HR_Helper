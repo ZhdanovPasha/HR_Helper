{
 "cells": [
  {
   "cell_type": "code",
   "execution_count": 1,
   "metadata": {},
   "outputs": [],
   "source": [
    "import json\n",
    "import pandas as pd\n",
    "\n",
    "import warnings\n",
    "warnings.simplefilter('ignore')\n",
    "\n",
    "from config import CONFIG\n",
    "from utils import join_text_from_json_by_values"
   ]
  },
  {
   "cell_type": "markdown",
   "metadata": {},
   "source": [
    "### Преобразование текстов резюме с сайта rabota.ru"
   ]
  },
  {
   "cell_type": "code",
   "execution_count": 2,
   "metadata": {},
   "outputs": [
    {
     "data": {
      "text/html": [
       "<div>\n",
       "<style scoped>\n",
       "    .dataframe tbody tr th:only-of-type {\n",
       "        vertical-align: middle;\n",
       "    }\n",
       "\n",
       "    .dataframe tbody tr th {\n",
       "        vertical-align: top;\n",
       "    }\n",
       "\n",
       "    .dataframe thead th {\n",
       "        text-align: right;\n",
       "    }\n",
       "</style>\n",
       "<table border=\"1\" class=\"dataframe\">\n",
       "  <thead>\n",
       "    <tr style=\"text-align: right;\">\n",
       "      <th></th>\n",
       "      <th>text</th>\n",
       "    </tr>\n",
       "  </thead>\n",
       "  <tbody>\n",
       "    <tr>\n",
       "      <th>0</th>\n",
       "      <td>Программист по договоренности  Санкт-Петербург...</td>\n",
       "    </tr>\n",
       "    <tr>\n",
       "      <th>1</th>\n",
       "      <td>Продавец-консультант, менеджер по продажам, ра...</td>\n",
       "    </tr>\n",
       "    <tr>\n",
       "      <th>2</th>\n",
       "      <td>frontend-разработчик 20 000 руб. Css, html5, h...</td>\n",
       "    </tr>\n",
       "    <tr>\n",
       "      <th>3</th>\n",
       "      <td>Программист Java, Javascript по договоренности...</td>\n",
       "    </tr>\n",
       "    <tr>\n",
       "      <th>4</th>\n",
       "      <td>Программист 60 000 руб. C++, html5, javascript...</td>\n",
       "    </tr>\n",
       "  </tbody>\n",
       "</table>\n",
       "</div>"
      ],
      "text/plain": [
       "                                                text\n",
       "0  Программист по договоренности  Санкт-Петербург...\n",
       "1  Продавец-консультант, менеджер по продажам, ра...\n",
       "2  frontend-разработчик 20 000 руб. Css, html5, h...\n",
       "3  Программист Java, Javascript по договоренности...\n",
       "4  Программист 60 000 руб. C++, html5, javascript..."
      ]
     },
     "execution_count": 2,
     "metadata": {},
     "output_type": "execute_result"
    }
   ],
   "source": [
    "with open(f'{CONFIG.DATA_FOLDER}/rabota_cvs.json', 'r', encoding='utf-8') as f:\n",
    "    cvs = json.load(f)\n",
    "\n",
    "transformed_cvs = list(map(join_text_from_json_by_values, cvs))\n",
    "\n",
    "df_cvs = pd.DataFrame()\n",
    "df_cvs['text'] = transformed_cvs\n",
    "df_cvs.head()"
   ]
  },
  {
   "cell_type": "code",
   "execution_count": 3,
   "metadata": {},
   "outputs": [],
   "source": [
    "df_cvs.to_csv(f'{CONFIG.DATA_FOLDER}/rabota_cvs.csv', index=False)"
   ]
  },
  {
   "cell_type": "markdown",
   "metadata": {},
   "source": [
    "### Преобразование текстов резюме с сайта remote-job.ru"
   ]
  },
  {
   "cell_type": "code",
   "execution_count": 4,
   "metadata": {},
   "outputs": [
    {
     "data": {
      "text/html": [
       "<div>\n",
       "<style scoped>\n",
       "    .dataframe tbody tr th:only-of-type {\n",
       "        vertical-align: middle;\n",
       "    }\n",
       "\n",
       "    .dataframe tbody tr th {\n",
       "        vertical-align: top;\n",
       "    }\n",
       "\n",
       "    .dataframe thead th {\n",
       "        text-align: right;\n",
       "    }\n",
       "</style>\n",
       "<table border=\"1\" class=\"dataframe\">\n",
       "  <thead>\n",
       "    <tr style=\"text-align: right;\">\n",
       "      <th></th>\n",
       "      <th>text</th>\n",
       "    </tr>\n",
       "  </thead>\n",
       "  <tbody>\n",
       "    <tr>\n",
       "      <th>0</th>\n",
       "      <td>Web-программист от 120 000 руб. Россия, Сарато...</td>\n",
       "    </tr>\n",
       "    <tr>\n",
       "      <th>1</th>\n",
       "      <td>Оцифровщик / дизайнер / тестировщик / переводч...</td>\n",
       "    </tr>\n",
       "    <tr>\n",
       "      <th>2</th>\n",
       "      <td>Системный администратор от 50 000 руб. Россия,...</td>\n",
       "    </tr>\n",
       "    <tr>\n",
       "      <th>3</th>\n",
       "      <td>Тестировщик ПО от 30 000 руб. Россия, Хабаровс...</td>\n",
       "    </tr>\n",
       "    <tr>\n",
       "      <th>4</th>\n",
       "      <td>Фронтент разработчик от 40 000 руб. Россия, Мо...</td>\n",
       "    </tr>\n",
       "  </tbody>\n",
       "</table>\n",
       "</div>"
      ],
      "text/plain": [
       "                                                text\n",
       "0  Web-программист от 120 000 руб. Россия, Сарато...\n",
       "1  Оцифровщик / дизайнер / тестировщик / переводч...\n",
       "2  Системный администратор от 50 000 руб. Россия,...\n",
       "3  Тестировщик ПО от 30 000 руб. Россия, Хабаровс...\n",
       "4  Фронтент разработчик от 40 000 руб. Россия, Мо..."
      ]
     },
     "execution_count": 4,
     "metadata": {},
     "output_type": "execute_result"
    }
   ],
   "source": [
    "with open(f'{CONFIG.DATA_FOLDER}/remote_cvs.json', 'r', encoding='utf-8') as f:\n",
    "    cvs = json.load(f)\n",
    "\n",
    "transformed_cvs = list(map(join_text_from_json_by_values, cvs))\n",
    "transformed_cvs = [' '.join(transformed_cv.split()) for transformed_cv in transformed_cvs]\n",
    "\n",
    "df_cvs = pd.DataFrame()\n",
    "df_cvs['text'] = transformed_cvs\n",
    "df_cvs.head()"
   ]
  },
  {
   "cell_type": "code",
   "execution_count": 5,
   "metadata": {},
   "outputs": [],
   "source": [
    "df_cvs.to_csv(f'{CONFIG.DATA_FOLDER}/remote_cvs.csv', index=False)"
   ]
  },
  {
   "cell_type": "markdown",
   "metadata": {},
   "source": [
    "### Преобразование текстов резюме с сайта hh.ru"
   ]
  },
  {
   "cell_type": "code",
   "execution_count": 6,
   "metadata": {},
   "outputs": [
    {
     "data": {
      "text/html": [
       "<div>\n",
       "<style scoped>\n",
       "    .dataframe tbody tr th:only-of-type {\n",
       "        vertical-align: middle;\n",
       "    }\n",
       "\n",
       "    .dataframe tbody tr th {\n",
       "        vertical-align: top;\n",
       "    }\n",
       "\n",
       "    .dataframe thead th {\n",
       "        text-align: right;\n",
       "    }\n",
       "</style>\n",
       "<table border=\"1\" class=\"dataframe\">\n",
       "  <thead>\n",
       "    <tr style=\"text-align: right;\">\n",
       "      <th></th>\n",
       "      <th>text</th>\n",
       "    </tr>\n",
       "  </thead>\n",
       "  <tbody>\n",
       "    <tr>\n",
       "      <th>0</th>\n",
       "      <td>Мужчина 27 лет Москва Frontend-разработчик (Vu...</td>\n",
       "    </tr>\n",
       "    <tr>\n",
       "      <th>1</th>\n",
       "      <td>Мужчина 23 года Санкт-Петербург 3D Motion Desi...</td>\n",
       "    </tr>\n",
       "    <tr>\n",
       "      <th>2</th>\n",
       "      <td>Женщина 20 лет Санкт-Петербург Дизайнер 60 000...</td>\n",
       "    </tr>\n",
       "    <tr>\n",
       "      <th>3</th>\n",
       "      <td>Мужчина 39 лет Санкт-Петербург Программист-раз...</td>\n",
       "    </tr>\n",
       "    <tr>\n",
       "      <th>4</th>\n",
       "      <td>Мужчина 34 года Екатеринбург Дизайнер интерфей...</td>\n",
       "    </tr>\n",
       "  </tbody>\n",
       "</table>\n",
       "</div>"
      ],
      "text/plain": [
       "                                                text\n",
       "0  Мужчина 27 лет Москва Frontend-разработчик (Vu...\n",
       "1  Мужчина 23 года Санкт-Петербург 3D Motion Desi...\n",
       "2  Женщина 20 лет Санкт-Петербург Дизайнер 60 000...\n",
       "3  Мужчина 39 лет Санкт-Петербург Программист-раз...\n",
       "4  Мужчина 34 года Екатеринбург Дизайнер интерфей..."
      ]
     },
     "execution_count": 6,
     "metadata": {},
     "output_type": "execute_result"
    }
   ],
   "source": [
    "with open(f'{CONFIG.DATA_FOLDER}/hh_cvs.json', 'r', encoding='utf-8') as f:\n",
    "    cvs = json.load(f)\n",
    "\n",
    "transformed_cvs = list(map(join_text_from_json_by_values, cvs))\n",
    "transformed_cvs = [' '.join(transformed_cv.split()) for transformed_cv in transformed_cvs]\n",
    "\n",
    "df_cvs = pd.DataFrame()\n",
    "df_cvs['text'] = transformed_cvs\n",
    "df_cvs.head()"
   ]
  },
  {
   "cell_type": "code",
   "execution_count": 7,
   "metadata": {},
   "outputs": [],
   "source": [
    "df_cvs.to_csv(f'{CONFIG.DATA_FOLDER}/hh_cvs.csv', index=False)"
   ]
  },
  {
   "cell_type": "markdown",
   "metadata": {},
   "source": [
    "### Преобразование текстов вакансий с сайта hh.ru"
   ]
  },
  {
   "cell_type": "code",
   "execution_count": 8,
   "metadata": {},
   "outputs": [
    {
     "data": {
      "text/html": [
       "<div>\n",
       "<style scoped>\n",
       "    .dataframe tbody tr th:only-of-type {\n",
       "        vertical-align: middle;\n",
       "    }\n",
       "\n",
       "    .dataframe tbody tr th {\n",
       "        vertical-align: top;\n",
       "    }\n",
       "\n",
       "    .dataframe thead th {\n",
       "        text-align: right;\n",
       "    }\n",
       "</style>\n",
       "<table border=\"1\" class=\"dataframe\">\n",
       "  <thead>\n",
       "    <tr style=\"text-align: right;\">\n",
       "      <th></th>\n",
       "      <th>text</th>\n",
       "    </tr>\n",
       "  </thead>\n",
       "  <tbody>\n",
       "    <tr>\n",
       "      <th>0</th>\n",
       "      <td>MySQL/PHP Application Developer от 150 000 руб...</td>\n",
       "    </tr>\n",
       "    <tr>\n",
       "      <th>1</th>\n",
       "      <td>Frontend Developer (PlanIt) з/п не указана DIN...</td>\n",
       "    </tr>\n",
       "    <tr>\n",
       "      <th>2</th>\n",
       "      <td>Менеджер проектов Microsoft Dynamics CRM з/п н...</td>\n",
       "    </tr>\n",
       "    <tr>\n",
       "      <th>3</th>\n",
       "      <td>Senior CRM-manager з/п не указана Karuna Чкало...</td>\n",
       "    </tr>\n",
       "    <tr>\n",
       "      <th>4</th>\n",
       "      <td>Senior Front-End Engineer (React) з/п не указа...</td>\n",
       "    </tr>\n",
       "  </tbody>\n",
       "</table>\n",
       "</div>"
      ],
      "text/plain": [
       "                                                text\n",
       "0  MySQL/PHP Application Developer от 150 000 руб...\n",
       "1  Frontend Developer (PlanIt) з/п не указана DIN...\n",
       "2  Менеджер проектов Microsoft Dynamics CRM з/п н...\n",
       "3  Senior CRM-manager з/п не указана Karuna Чкало...\n",
       "4  Senior Front-End Engineer (React) з/п не указа..."
      ]
     },
     "execution_count": 8,
     "metadata": {},
     "output_type": "execute_result"
    }
   ],
   "source": [
    "with open(f'{CONFIG.DATA_FOLDER}/hh_vac.json', 'r', encoding='utf-8') as f:\n",
    "    vacancies = json.load(f)\n",
    "    \n",
    "transformed_vacancies = list(map(join_text_from_json_by_values, vacancies))\n",
    "df_vac = pd.DataFrame()\n",
    "df_vac['text'] = transformed_vacancies\n",
    "df_vac.head()"
   ]
  },
  {
   "cell_type": "code",
   "execution_count": 9,
   "metadata": {},
   "outputs": [],
   "source": [
    "df_vac.to_csv(f'{CONFIG.DATA_FOLDER}/hh_vacs.csv', index=False)"
   ]
  }
 ],
 "metadata": {
  "kernelspec": {
   "display_name": "Python 3",
   "language": "python",
   "name": "python3"
  },
  "language_info": {
   "codemirror_mode": {
    "name": "ipython",
    "version": 3
   },
   "file_extension": ".py",
   "mimetype": "text/x-python",
   "name": "python",
   "nbconvert_exporter": "python",
   "pygments_lexer": "ipython3",
   "version": "3.7.3"
  }
 },
 "nbformat": 4,
 "nbformat_minor": 2
}
