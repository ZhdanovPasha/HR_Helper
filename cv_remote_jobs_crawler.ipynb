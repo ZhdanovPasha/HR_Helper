{
 "cells": [
  {
   "cell_type": "code",
   "execution_count": 12,
   "metadata": {},
   "outputs": [],
   "source": [
    "import json\n",
    "import requests\n",
    "import time\n",
    "from tqdm import tqdm\n",
    "from bs4 import BeautifulSoup\n",
    "from pprint import pprint\n",
    "\n",
    "import warnings\n",
    "warnings.simplefilter('ignore')\n",
    "\n",
    "from config import CONFIG"
   ]
  },
  {
   "cell_type": "markdown",
   "metadata": {},
   "source": [
    "### Загрузка резюме"
   ]
  },
  {
   "cell_type": "code",
   "execution_count": 11,
   "metadata": {},
   "outputs": [
    {
     "name": "stderr",
     "output_type": "stream",
     "text": [
      "100%|██████████████████████████████████████████████████████████████████████████████████| 93/93 [00:17<00:00,  6.58it/s]\n"
     ]
    }
   ],
   "source": [
    "remote_link = 'https://remote-job.ru/search?search%5BsearchType%5D=resume&category=1&page='\n",
    "links = []\n",
    "for i in tqdm(range(1, 94)):\n",
    "    current_link = remote_link + str(i)\n",
    "    request = requests.get(current_link)\n",
    "    soup = BeautifulSoup(request.text)\n",
    "    vacs = soup.find_all('div', {'class': 'vacancy_item'})\n",
    "    for vac in vacs:\n",
    "        links.append(vac.find('a', href=True)['href'])"
   ]
  },
  {
   "cell_type": "markdown",
   "metadata": {},
   "source": [
    "### Загрузка текстов резюме"
   ]
  },
  {
   "cell_type": "code",
   "execution_count": 51,
   "metadata": {},
   "outputs": [
    {
     "name": "stderr",
     "output_type": "stream",
     "text": [
      "100%|██████████████████████████████████████████████████████████████████████████████| 1855/1855 [37:07<00:00,  1.17s/it]\n"
     ]
    }
   ],
   "source": [
    "site_name = 'https://remote-job.ru'\n",
    "cv = []\n",
    "\n",
    "for link in tqdm(links):\n",
    "    current_link = site_name + link\n",
    "    request = requests.get(current_link)\n",
    "    soup = BeautifulSoup(request.text)\n",
    "    cur_cv = dict()\n",
    "    header = soup.find('div', {'class': 'panel-heading'})\n",
    "    cur_cv['title'] = header.find('h2').text\n",
    "    add_header_info = header.find_all('b')\n",
    "    if add_header_info is not None:\n",
    "        cur_cv['salary'] = add_header_info[0].text\n",
    "        cur_cv['place'] = add_header_info[1].text\n",
    "    \n",
    "    cv_text = soup.find('div', {'class': 'panel-body'}).find('div', {'class': 'col-md-12'}).text\n",
    "    cur_cv['text'] = (\n",
    "        cv_text\n",
    "        .replace('\\n\\n', 'NEW LINE')\n",
    "        .replace('\\n', '')\n",
    "        .replace('NEW LINE', '\\n')\n",
    "    )\n",
    "    \n",
    "    cv.append(cur_cv)\n",
    "    time.sleep(1)"
   ]
  },
  {
   "cell_type": "markdown",
   "metadata": {},
   "source": [
    "### Сохранение в файл"
   ]
  },
  {
   "cell_type": "code",
   "execution_count": 62,
   "metadata": {},
   "outputs": [],
   "source": [
    "with open(f'{CONFIG.DATA_FOLDER}/remote_cvs.json', 'w', encoding='utf-8') as f:\n",
    "    json.dump(cv, f, ensure_ascii=False, indent=4)"
   ]
  }
 ],
 "metadata": {
  "kernelspec": {
   "display_name": "Python 3",
   "language": "python",
   "name": "python3"
  },
  "language_info": {
   "codemirror_mode": {
    "name": "ipython",
    "version": 3
   },
   "file_extension": ".py",
   "mimetype": "text/x-python",
   "name": "python",
   "nbconvert_exporter": "python",
   "pygments_lexer": "ipython3",
   "version": "3.7.3"
  }
 },
 "nbformat": 4,
 "nbformat_minor": 2
}
